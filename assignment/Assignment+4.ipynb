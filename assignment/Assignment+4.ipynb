{
 "cells": [
  {
   "cell_type": "markdown",
   "metadata": {},
   "source": [
    "---\n",
    "\n",
    "_You are currently looking at **version 1.1** of this notebook. To download notebooks and datafiles, as well as get help on Jupyter notebooks in the Coursera platform, visit the [Jupyter Notebook FAQ](https://www.coursera.org/learn/python-data-analysis/resources/0dhYG) course resource._\n",
    "\n",
    "---"
   ]
  },
  {
   "cell_type": "code",
   "execution_count": 1,
   "metadata": {
    "collapsed": true
   },
   "outputs": [],
   "source": [
    "import pandas as pd\n",
    "import numpy as np\n",
    "from scipy.stats import ttest_ind"
   ]
  },
  {
   "cell_type": "markdown",
   "metadata": {},
   "source": [
    "# Assignment 4 - Hypothesis Testing\n",
    "This assignment requires more individual learning than previous assignments - you are encouraged to check out the [pandas documentation](http://pandas.pydata.org/pandas-docs/stable/) to find functions or methods you might not have used yet, or ask questions on [Stack Overflow](http://stackoverflow.com/) and tag them as pandas and python related. And of course, the discussion forums are open for interaction with your peers and the course staff.\n",
    "\n",
    "Definitions:\n",
    "* A _quarter_ is a specific three month period, Q1 is January through March, Q2 is April through June, Q3 is July through September, Q4 is October through December.\n",
    "* A _recession_ is defined as starting with two consecutive quarters of GDP decline, and ending with two consecutive quarters of GDP growth.\n",
    "* A _recession bottom_ is the quarter within a recession which had the lowest GDP.\n",
    "* A _university town_ is a city which has a high percentage of university students compared to the total population of the city.\n",
    "\n",
    "**Hypothesis**: University towns have their mean housing prices less effected by recessions. Run a t-test to compare the ratio of the mean price of houses in university towns the quarter before the recession starts compared to the recession bottom. (`price_ratio=quarter_before_recession_start/recession_bottom`)\n",
    "\n",
    "The following data files are available for this assignment:\n",
    "* From the [Zillow research data site](http://www.zillow.com/research/data/) there is housing data for the United States. In particular the datafile for [all homes at a city level](http://files.zillowstatic.com/research/public/City/City_Zhvi_AllHomes.csv), ```City_Zhvi_AllHomes.csv```, has median home sale prices at a fine grained level.\n",
    "* From the Wikipedia page on college towns is a list of [university towns in the United States](https://en.wikipedia.org/wiki/List_of_college_towns#College_towns_in_the_United_States) which has been copy and pasted into the file ```university_towns.txt```.\n",
    "* From Bureau of Economic Analysis, US Department of Commerce, the [GDP over time](http://www.bea.gov/national/index.htm#gdp) of the United States in current dollars (use the chained value in 2009 dollars), in quarterly intervals, in the file ```gdplev.xls```. For this assignment, only look at GDP data from the first quarter of 2000 onward.\n",
    "\n",
    "Each function in this assignment below is worth 10%, with the exception of ```run_ttest()```, which is worth 50%."
   ]
  },
  {
   "cell_type": "code",
   "execution_count": 2,
   "metadata": {
    "collapsed": true
   },
   "outputs": [],
   "source": [
    "# Use this dictionary to map state names to two letter acronyms\n",
    "states_name = {'OH': 'Ohio', 'KY': 'Kentucky', 'AS': 'American Samoa', 'NV': 'Nevada', 'WY': 'Wyoming', 'NA': 'National', 'AL': 'Alabama', 'MD': 'Maryland', 'AK': 'Alaska', 'UT': 'Utah', 'OR': 'Oregon', 'MT': 'Montana', 'IL': 'Illinois', 'TN': 'Tennessee', 'DC': 'District of Columbia', 'VT': 'Vermont', 'ID': 'Idaho', 'AR': 'Arkansas', 'ME': 'Maine', 'WA': 'Washington', 'HI': 'Hawaii', 'WI': 'Wisconsin', 'MI': 'Michigan', 'IN': 'Indiana', 'NJ': 'New Jersey', 'AZ': 'Arizona', 'GU': 'Guam', 'MS': 'Mississippi', 'PR': 'Puerto Rico', 'NC': 'North Carolina', 'TX': 'Texas', 'SD': 'South Dakota', 'MP': 'Northern Mariana Islands', 'IA': 'Iowa', 'MO': 'Missouri', 'CT': 'Connecticut', 'WV': 'West Virginia', 'SC': 'South Carolina', 'LA': 'Louisiana', 'KS': 'Kansas', 'NY': 'New York', 'NE': 'Nebraska', 'OK': 'Oklahoma', 'FL': 'Florida', 'CA': 'California', 'CO': 'Colorado', 'PA': 'Pennsylvania', 'DE': 'Delaware', 'NM': 'New Mexico', 'RI': 'Rhode Island', 'MN': 'Minnesota', 'VI': 'Virgin Islands', 'NH': 'New Hampshire', 'MA': 'Massachusetts', 'GA': 'Georgia', 'ND': 'North Dakota', 'VA': 'Virginia'}\n",
    "state_set = set(states_name.values())"
   ]
  },
  {
   "cell_type": "code",
   "execution_count": 3,
   "metadata": {
    "umich_part_id": "021",
    "umich_partlist_id": "004"
   },
   "outputs": [
    {
     "data": {
      "text/html": [
       "<div>\n",
       "<table border=\"1\" class=\"dataframe\">\n",
       "  <thead>\n",
       "    <tr style=\"text-align: right;\">\n",
       "      <th></th>\n",
       "      <th>State</th>\n",
       "      <th>RegionName</th>\n",
       "    </tr>\n",
       "  </thead>\n",
       "  <tbody>\n",
       "    <tr>\n",
       "      <th>0</th>\n",
       "      <td>Alabama</td>\n",
       "      <td>Auburn</td>\n",
       "    </tr>\n",
       "    <tr>\n",
       "      <th>1</th>\n",
       "      <td>Alabama</td>\n",
       "      <td>Florence</td>\n",
       "    </tr>\n",
       "    <tr>\n",
       "      <th>2</th>\n",
       "      <td>Alabama</td>\n",
       "      <td>Jacksonville</td>\n",
       "    </tr>\n",
       "    <tr>\n",
       "      <th>3</th>\n",
       "      <td>Alabama</td>\n",
       "      <td>Livingston</td>\n",
       "    </tr>\n",
       "    <tr>\n",
       "      <th>4</th>\n",
       "      <td>Alabama</td>\n",
       "      <td>Montevallo</td>\n",
       "    </tr>\n",
       "  </tbody>\n",
       "</table>\n",
       "</div>"
      ],
      "text/plain": [
       "     State    RegionName\n",
       "0  Alabama        Auburn\n",
       "1  Alabama      Florence\n",
       "2  Alabama  Jacksonville\n",
       "3  Alabama    Livingston\n",
       "4  Alabama    Montevallo"
      ]
     },
     "execution_count": 3,
     "metadata": {},
     "output_type": "execute_result"
    }
   ],
   "source": [
    "def get_list_of_university_towns():\n",
    "    '''Returns a DataFrame of towns and the states they are in from the \n",
    "    university_towns.txt list. The format of the DataFrame should be:\n",
    "    DataFrame( [ [\"Michigan\", \"Ann Arbor\"], [\"Michigan\", \"Yipsilanti\"] ], \n",
    "    columns=[\"State\", \"RegionName\"]  )\n",
    "    \n",
    "    The following cleaning needs to be done:\n",
    "\n",
    "    1. For \"State\", removing characters from \"[\" to the end.\n",
    "    2. For \"RegionName\", when applicable, removing every character from \" (\" to the end.\n",
    "    3. Depending on how you read the data, you may need to remove newline character '\\n'. '''\n",
    "    data = open('university_towns.txt', 'r').read().split('\\n')\n",
    "    data = list(filter(None, data))\n",
    "    slist = []\n",
    "    states = []\n",
    "    for index, value in enumerate(data):\n",
    "        v = value.split('[')[0]\n",
    "        if v in state_set:\n",
    "            slist.append(index)\n",
    "            states.append(v)\n",
    "        else:\n",
    "            states.append(states[-1])\n",
    "            \n",
    "    # remove rows of state name\n",
    "    data = [x.split(' (')[0] for x in data]\n",
    "    data = np.delete(data,(np.r_[slist]))\n",
    "    states = np.delete(states,(np.r_[slist]))\n",
    "    \n",
    "    uni_df = pd.DataFrame(np.array([states, data]).T, columns=['State', 'RegionName'])\n",
    "    return uni_df\n",
    "get_list_of_university_towns().head()"
   ]
  },
  {
   "cell_type": "code",
   "execution_count": 6,
   "metadata": {
    "umich_part_id": "022",
    "umich_partlist_id": "004"
   },
   "outputs": [
    {
     "data": {
      "text/plain": [
       "'2008q3'"
      ]
     },
     "execution_count": 6,
     "metadata": {},
     "output_type": "execute_result"
    }
   ],
   "source": [
    "GDP = pd.read_excel('gdplev.xls').iloc[219:,[4,6]]\n",
    "GDP = GDP.rename(columns={'Unnamed: 4':'quarter', 'Unnamed: 6':'value'})\n",
    "GDP = GDP.reset_index().loc[:,['quarter','value']]\n",
    "\n",
    "def get_recession_start():\n",
    "    '''Returns the year and quarter of the recession start time as a \n",
    "    string value in a format such as 2005q3'''\n",
    "    recession = []\n",
    "    for i in range (2,len(GDP)-1):\n",
    "        if (GDP.iloc[i,1] < GDP.iloc[i-1,1]) & (GDP.iloc[i-1,1] < GDP.iloc[i-2,1]):\n",
    "            recession.append(GDP.iloc[i-2,0])\n",
    "    return recession[1]\n",
    "get_recession_start()"
   ]
  },
  {
   "cell_type": "code",
   "execution_count": 7,
   "metadata": {
    "umich_part_id": "023",
    "umich_partlist_id": "004"
   },
   "outputs": [
    {
     "data": {
      "text/plain": [
       "'2009q4'"
      ]
     },
     "execution_count": 7,
     "metadata": {},
     "output_type": "execute_result"
    }
   ],
   "source": [
    "start = GDP[GDP['quarter'] == get_recession_start()].index[0]\n",
    "\n",
    "def get_recession_end():\n",
    "    '''Returns the year and quarter of the recession end time as a \n",
    "    string value in a format such as 2005q3'''\n",
    "    recession = []\n",
    "    for i in range (start,len(GDP)-1):\n",
    "        if (GDP.iloc[i,1] > GDP.iloc[i-1,1]) & (GDP.iloc[i-1,1] > GDP.iloc[i-2,1]):\n",
    "            recession.append(GDP.iloc[i,0])\n",
    "    return recession[0]       \n",
    "get_recession_end()"
   ]
  },
  {
   "cell_type": "code",
   "execution_count": 8,
   "metadata": {
    "umich_part_id": "024",
    "umich_partlist_id": "004"
   },
   "outputs": [
    {
     "data": {
      "text/plain": [
       "'2009q2'"
      ]
     },
     "execution_count": 8,
     "metadata": {},
     "output_type": "execute_result"
    }
   ],
   "source": [
    "end = GDP[GDP['quarter'] == get_recession_end()].index[0]\n",
    "\n",
    "def get_recession_bottom():\n",
    "    '''Returns the year and quarter of the recession bottom time as a \n",
    "    string value in a format such as 2005q3'''\n",
    "    bottom = GDP.iloc[end-2,0]\n",
    "    return bottom\n",
    "get_recession_bottom()"
   ]
  },
  {
   "cell_type": "code",
   "execution_count": 9,
   "metadata": {
    "umich_part_id": "025",
    "umich_partlist_id": "004"
   },
   "outputs": [
    {
     "data": {
      "text/html": [
       "<div>\n",
       "<table border=\"1\" class=\"dataframe\">\n",
       "  <thead>\n",
       "    <tr style=\"text-align: right;\">\n",
       "      <th></th>\n",
       "      <th></th>\n",
       "      <th>2000q1</th>\n",
       "      <th>2000q2</th>\n",
       "      <th>2000q3</th>\n",
       "      <th>2000q4</th>\n",
       "      <th>2001q1</th>\n",
       "      <th>2001q2</th>\n",
       "      <th>2001q3</th>\n",
       "      <th>2001q4</th>\n",
       "      <th>2002q1</th>\n",
       "      <th>2002q2</th>\n",
       "      <th>...</th>\n",
       "      <th>2014q2</th>\n",
       "      <th>2014q3</th>\n",
       "      <th>2014q4</th>\n",
       "      <th>2015q1</th>\n",
       "      <th>2015q2</th>\n",
       "      <th>2015q3</th>\n",
       "      <th>2015q4</th>\n",
       "      <th>2016q1</th>\n",
       "      <th>2016q2</th>\n",
       "      <th>2016q3</th>\n",
       "    </tr>\n",
       "    <tr>\n",
       "      <th>State</th>\n",
       "      <th>RegionName</th>\n",
       "      <th></th>\n",
       "      <th></th>\n",
       "      <th></th>\n",
       "      <th></th>\n",
       "      <th></th>\n",
       "      <th></th>\n",
       "      <th></th>\n",
       "      <th></th>\n",
       "      <th></th>\n",
       "      <th></th>\n",
       "      <th></th>\n",
       "      <th></th>\n",
       "      <th></th>\n",
       "      <th></th>\n",
       "      <th></th>\n",
       "      <th></th>\n",
       "      <th></th>\n",
       "      <th></th>\n",
       "      <th></th>\n",
       "      <th></th>\n",
       "      <th></th>\n",
       "    </tr>\n",
       "  </thead>\n",
       "  <tbody>\n",
       "    <tr>\n",
       "      <th rowspan=\"5\" valign=\"top\">Alabama</th>\n",
       "      <th>Mulga</th>\n",
       "      <td>NaN</td>\n",
       "      <td>NaN</td>\n",
       "      <td>NaN</td>\n",
       "      <td>NaN</td>\n",
       "      <td>NaN</td>\n",
       "      <td>NaN</td>\n",
       "      <td>NaN</td>\n",
       "      <td>NaN</td>\n",
       "      <td>NaN</td>\n",
       "      <td>NaN</td>\n",
       "      <td>...</td>\n",
       "      <td>45466.666667</td>\n",
       "      <td>43600.000000</td>\n",
       "      <td>42166.666667</td>\n",
       "      <td>41933.333333</td>\n",
       "      <td>42733.333333</td>\n",
       "      <td>42033.333333</td>\n",
       "      <td>43033.333333</td>\n",
       "      <td>40666.666667</td>\n",
       "      <td>38366.666667</td>\n",
       "      <td>38300.0</td>\n",
       "    </tr>\n",
       "    <tr>\n",
       "      <th>Trussville</th>\n",
       "      <td>164400.000000</td>\n",
       "      <td>165900.000000</td>\n",
       "      <td>167600.000000</td>\n",
       "      <td>169766.666667</td>\n",
       "      <td>172533.333333</td>\n",
       "      <td>173433.333333</td>\n",
       "      <td>174166.666667</td>\n",
       "      <td>176700.000000</td>\n",
       "      <td>178000.000000</td>\n",
       "      <td>180800.000000</td>\n",
       "      <td>...</td>\n",
       "      <td>212033.333333</td>\n",
       "      <td>210966.666667</td>\n",
       "      <td>214566.666667</td>\n",
       "      <td>216600.000000</td>\n",
       "      <td>220066.666667</td>\n",
       "      <td>219833.333333</td>\n",
       "      <td>219433.333333</td>\n",
       "      <td>220266.666667</td>\n",
       "      <td>223566.666667</td>\n",
       "      <td>225600.0</td>\n",
       "    </tr>\n",
       "    <tr>\n",
       "      <th>Satsuma</th>\n",
       "      <td>88600.000000</td>\n",
       "      <td>90966.666667</td>\n",
       "      <td>90333.333333</td>\n",
       "      <td>89600.000000</td>\n",
       "      <td>90233.333333</td>\n",
       "      <td>90766.666667</td>\n",
       "      <td>90633.333333</td>\n",
       "      <td>92200.000000</td>\n",
       "      <td>93000.000000</td>\n",
       "      <td>93200.000000</td>\n",
       "      <td>...</td>\n",
       "      <td>125266.666667</td>\n",
       "      <td>127500.000000</td>\n",
       "      <td>128266.666667</td>\n",
       "      <td>129266.666667</td>\n",
       "      <td>131300.000000</td>\n",
       "      <td>133333.333333</td>\n",
       "      <td>134800.000000</td>\n",
       "      <td>134666.666667</td>\n",
       "      <td>133533.333333</td>\n",
       "      <td>133100.0</td>\n",
       "    </tr>\n",
       "    <tr>\n",
       "      <th>Irvington</th>\n",
       "      <td>72466.666667</td>\n",
       "      <td>74100.000000</td>\n",
       "      <td>75700.000000</td>\n",
       "      <td>76266.666667</td>\n",
       "      <td>76300.000000</td>\n",
       "      <td>74300.000000</td>\n",
       "      <td>73500.000000</td>\n",
       "      <td>73833.333333</td>\n",
       "      <td>75966.666667</td>\n",
       "      <td>79266.666667</td>\n",
       "      <td>...</td>\n",
       "      <td>90533.333333</td>\n",
       "      <td>95666.666667</td>\n",
       "      <td>98466.666667</td>\n",
       "      <td>99500.000000</td>\n",
       "      <td>98800.000000</td>\n",
       "      <td>97600.000000</td>\n",
       "      <td>98000.000000</td>\n",
       "      <td>101500.000000</td>\n",
       "      <td>103966.666667</td>\n",
       "      <td>103950.0</td>\n",
       "    </tr>\n",
       "    <tr>\n",
       "      <th>Mount Olive</th>\n",
       "      <td>106500.000000</td>\n",
       "      <td>107333.333333</td>\n",
       "      <td>106966.666667</td>\n",
       "      <td>107200.000000</td>\n",
       "      <td>108266.666667</td>\n",
       "      <td>108766.666667</td>\n",
       "      <td>110166.666667</td>\n",
       "      <td>112400.000000</td>\n",
       "      <td>113966.666667</td>\n",
       "      <td>115000.000000</td>\n",
       "      <td>...</td>\n",
       "      <td>132066.666667</td>\n",
       "      <td>132366.666667</td>\n",
       "      <td>132066.666667</td>\n",
       "      <td>135433.333333</td>\n",
       "      <td>138100.000000</td>\n",
       "      <td>138433.333333</td>\n",
       "      <td>140633.333333</td>\n",
       "      <td>142866.666667</td>\n",
       "      <td>144033.333333</td>\n",
       "      <td>143850.0</td>\n",
       "    </tr>\n",
       "  </tbody>\n",
       "</table>\n",
       "<p>5 rows × 67 columns</p>\n",
       "</div>"
      ],
      "text/plain": [
       "                            2000q1         2000q2         2000q3  \\\n",
       "State   RegionName                                                 \n",
       "Alabama Mulga                  NaN            NaN            NaN   \n",
       "        Trussville   164400.000000  165900.000000  167600.000000   \n",
       "        Satsuma       88600.000000   90966.666667   90333.333333   \n",
       "        Irvington     72466.666667   74100.000000   75700.000000   \n",
       "        Mount Olive  106500.000000  107333.333333  106966.666667   \n",
       "\n",
       "                            2000q4         2001q1         2001q2  \\\n",
       "State   RegionName                                                 \n",
       "Alabama Mulga                  NaN            NaN            NaN   \n",
       "        Trussville   169766.666667  172533.333333  173433.333333   \n",
       "        Satsuma       89600.000000   90233.333333   90766.666667   \n",
       "        Irvington     76266.666667   76300.000000   74300.000000   \n",
       "        Mount Olive  107200.000000  108266.666667  108766.666667   \n",
       "\n",
       "                            2001q3         2001q4         2002q1  \\\n",
       "State   RegionName                                                 \n",
       "Alabama Mulga                  NaN            NaN            NaN   \n",
       "        Trussville   174166.666667  176700.000000  178000.000000   \n",
       "        Satsuma       90633.333333   92200.000000   93000.000000   \n",
       "        Irvington     73500.000000   73833.333333   75966.666667   \n",
       "        Mount Olive  110166.666667  112400.000000  113966.666667   \n",
       "\n",
       "                            2002q2    ...            2014q2         2014q3  \\\n",
       "State   RegionName                    ...                                    \n",
       "Alabama Mulga                  NaN    ...      45466.666667   43600.000000   \n",
       "        Trussville   180800.000000    ...     212033.333333  210966.666667   \n",
       "        Satsuma       93200.000000    ...     125266.666667  127500.000000   \n",
       "        Irvington     79266.666667    ...      90533.333333   95666.666667   \n",
       "        Mount Olive  115000.000000    ...     132066.666667  132366.666667   \n",
       "\n",
       "                            2014q4         2015q1         2015q2  \\\n",
       "State   RegionName                                                 \n",
       "Alabama Mulga         42166.666667   41933.333333   42733.333333   \n",
       "        Trussville   214566.666667  216600.000000  220066.666667   \n",
       "        Satsuma      128266.666667  129266.666667  131300.000000   \n",
       "        Irvington     98466.666667   99500.000000   98800.000000   \n",
       "        Mount Olive  132066.666667  135433.333333  138100.000000   \n",
       "\n",
       "                            2015q3         2015q4         2016q1  \\\n",
       "State   RegionName                                                 \n",
       "Alabama Mulga         42033.333333   43033.333333   40666.666667   \n",
       "        Trussville   219833.333333  219433.333333  220266.666667   \n",
       "        Satsuma      133333.333333  134800.000000  134666.666667   \n",
       "        Irvington     97600.000000   98000.000000  101500.000000   \n",
       "        Mount Olive  138433.333333  140633.333333  142866.666667   \n",
       "\n",
       "                            2016q2    2016q3  \n",
       "State   RegionName                            \n",
       "Alabama Mulga         38366.666667   38300.0  \n",
       "        Trussville   223566.666667  225600.0  \n",
       "        Satsuma      133533.333333  133100.0  \n",
       "        Irvington    103966.666667  103950.0  \n",
       "        Mount Olive  144033.333333  143850.0  \n",
       "\n",
       "[5 rows x 67 columns]"
      ]
     },
     "execution_count": 9,
     "metadata": {},
     "output_type": "execute_result"
    }
   ],
   "source": [
    "def convert_housing_data_to_quarters():\n",
    "    '''Converts the housing data to quarters and returns it as mean \n",
    "    values in a dataframe. This dataframe should be a dataframe with\n",
    "    columns for 2000q1 through 2016q3, and should have a multi-index\n",
    "    in the shape of [\"State\",\"RegionName\"].\n",
    "    \n",
    "    Note: Quarters are defined in the assignment description, they are\n",
    "    not arbitrary three month periods.\n",
    "    \n",
    "    The resulting dataframe should have 67 columns, and 10,730 rows.\n",
    "    '''\n",
    "    home = pd.read_csv('City_Zhvi_AllHomes.csv').iloc[:,np.r_[2,1,51:251]]\n",
    "    home = home.set_index('State').rename(index = states_name)\n",
    "    home = home.reset_index().sort_values(by=['State']).set_index(['State', 'RegionName'])\n",
    "    home_g = home.groupby(pd.PeriodIndex(home.columns, freq='Q'), axis=1).mean()\n",
    "    col = [str(home_g.columns[i]).lower() for i in range(len(home_g.columns))]\n",
    "    home_g.columns = col\n",
    "    return home_g\n",
    "convert_housing_data_to_quarters().head()"
   ]
  },
  {
   "cell_type": "code",
   "execution_count": 43,
   "metadata": {
    "umich_part_id": "026",
    "umich_partlist_id": "004"
   },
   "outputs": [
    {
     "data": {
      "text/plain": [
       "(True, 0.0027240637047531249, 'university town')"
      ]
     },
     "execution_count": 43,
     "metadata": {},
     "output_type": "execute_result"
    }
   ],
   "source": [
    "home_r = convert_housing_data_to_quarters()\n",
    "\n",
    "startq = get_recession_start()\n",
    "startq = home_r.columns[home_r.columns.get_loc(startq)-1]\n",
    "bottomq = get_recession_bottom()\n",
    "\n",
    "def run_ttest():\n",
    "    '''First creates new data showing the decline or growth of housing prices\n",
    "    between the recession start and the recession bottom. Then runs a ttest\n",
    "    comparing the university town values to the non-university towns values, \n",
    "    return whether the alternative hypothesis (that the two groups are the same)\n",
    "    is true or not as well as the p-value of the confidence. \n",
    "    \n",
    "    Return the tuple (different, p, better) where different=True if the t-test is\n",
    "    True at a p<0.01 (we reject the null hypothesis), or different=False if \n",
    "    otherwise (we cannot reject the null hypothesis). The variable p should\n",
    "    be equal to the exact p value returned from scipy.stats.ttest_ind(). The\n",
    "    value for better should be either \"university town\" or \"non-university town\"\n",
    "    depending on which has a lower mean price ratio (which is equivilent to a\n",
    "    reduced market loss).'''\n",
    "    home_total = pd.DataFrame(home_r[startq]/home_r[bottomq],columns = ['ratio'])\n",
    "    #home_r_no_dup = home_r.copy().reset_index().drop(6537).set_index(['State', 'RegionName']) # remove another CLinton, NY\n",
    "    #home_total_no_dup = pd.DataFrame(home_r_no_dup[startq]/home_r_no_dup[bottomq],columns = ['ratio'])\n",
    "    \n",
    "    uni = get_list_of_university_towns()\n",
    "    uni_lst = list(uni.itertuples(index=False, name=None))\n",
    "    \n",
    "    home_uni = home_total.loc[home_total.index.isin(uni_lst)]\n",
    "    #home_uni = home_total_no_dup.loc[home_total_no_dup.index.isin(uni_lst)].reset_index()\n",
    "    home_non_uni = home_total.loc[~(home_total.index.isin(uni_lst))]\n",
    "    # or df = pd.merge(home_total.reset_index(), uni, on = uni.columns.tolist(), indicator = flag, how =  outer)\n",
    "    # home_uni = df[df['_flag'] == 'both']\n",
    "    # home_non_uni = df[df['_flag'] !== 'both']\n",
    "    \n",
    "    p = ttest_ind(home_uni['ratio'], home_non_uni['ratio'], nan_policy='omit')[1]\n",
    "    different = (p < 0.01)\n",
    "    if home_non_uni['ratio'].mean() <  home_non_uni['ratio'].mean():\n",
    "        better = 'non-university town'\n",
    "    else: better = 'university town'\n",
    "    return (different, p, better)\n",
    "run_ttest()"
   ]
  },
  {
   "cell_type": "code",
   "execution_count": null,
   "metadata": {
    "collapsed": true
   },
   "outputs": [],
   "source": []
  }
 ],
 "metadata": {
  "coursera": {
   "course_slug": "python-data-analysis",
   "graded_item_id": "Il9Fx",
   "launcher_item_id": "TeDW0",
   "part_id": "WGlun"
  },
  "kernelspec": {
   "display_name": "Python 3",
   "language": "python",
   "name": "python3"
  },
  "language_info": {
   "codemirror_mode": {
    "name": "ipython",
    "version": 3
   },
   "file_extension": ".py",
   "mimetype": "text/x-python",
   "name": "python",
   "nbconvert_exporter": "python",
   "pygments_lexer": "ipython3",
   "version": "3.6.2"
  },
  "umich": {
   "id": "Assignment 4",
   "version": "1.1"
  }
 },
 "nbformat": 4,
 "nbformat_minor": 1
}
